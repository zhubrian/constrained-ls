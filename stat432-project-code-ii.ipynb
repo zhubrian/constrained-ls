{
 "cells": [
  {
   "cell_type": "code",
   "execution_count": 1,
   "metadata": {},
   "outputs": [],
   "source": [
    "import matplotlib.pyplot as plt\n",
    "import numpy as np\n",
    "import pandas as pd\n",
    "import scipy.linalg as la\n",
    "import scipy.optimize as opt\n",
    "import scipy.stats as st\n",
    "import time"
   ]
  },
  {
   "cell_type": "code",
   "execution_count": 2,
   "metadata": {},
   "outputs": [],
   "source": [
    "def ball(w,τ):\n",
    "    m = len(w)\n",
    "    Bw = np.zeros(m)\n",
    "    for i in range(m):\n",
    "        Bw[i] = np.sign(w[i])*(τ-np.max(np.array([τ-np.abs(w[i]),0])))\n",
    "    return Bw "
   ]
  },
  {
   "cell_type": "code",
   "execution_count": 3,
   "metadata": {},
   "outputs": [],
   "source": [
    "def dual(λν):\n",
    "    w_star = ((λν@A_tilde@DTDinvDT1)/(DT1DTDinvDT1-T))*DTDinvDT1-DTDinv@np.transpose(A_tilde)@λν\n",
    "    return -0.5*la.norm(D@w_star)**2+(w_star@DT1)**2/(2*T)-λν@A_tilde@w_star+λν@b_tilde"
   ]
  },
  {
   "cell_type": "code",
   "execution_count": 4,
   "metadata": {},
   "outputs": [],
   "source": [
    "def grad_dual(λν,δ=1e-4):\n",
    "    N = len(λν)\n",
    "    grad = np.zeros(N)\n",
    "    for i in range(N):\n",
    "        e_L = np.zeros(N)\n",
    "        e_R = np.zeros(N)\n",
    "        e_L[i] = -δ\n",
    "        e_R[i] = δ\n",
    "        grad[i] = (dual(λν+e_R)-dual(λν+e_L))/(2*δ)\n",
    "    return grad"
   ]
  },
  {
   "cell_type": "code",
   "execution_count": 5,
   "metadata": {},
   "outputs": [],
   "source": [
    "def part(w):\n",
    "    m = len(w)\n",
    "    Pw = np.zeros(m)\n",
    "    for i in range(m):\n",
    "        Pw[i] = np.max(np.array([w[i],0]))\n",
    "    return Pw"
   ]
  },
  {
   "cell_type": "code",
   "execution_count": 6,
   "metadata": {},
   "outputs": [],
   "source": [
    "np.random.seed(432)\n",
    "\n",
    "data_str = \"oilgas-10y\"\n",
    "S_df = pd.read_csv(\"C:\\\\Users\\\\zhubr\\\\OneDrive\\\\Desktop\\\\STAT 432\\\\data-\"+data_str+\".csv\")\n",
    "S_df = S_df.drop(columns=['Date'])\n",
    "S_df = S_df.iloc[::-1].astype('float')\n",
    "S_df.head()\n",
    "S = S_df.to_numpy()\n",
    "\n"
   ]
  },
  {
   "cell_type": "code",
   "execution_count": 7,
   "metadata": {},
   "outputs": [],
   "source": [
    "S_in = S[1800:2200,:]\n",
    "S_out = S[2200:2300,:]\n",
    "\n",
    "T = S_in.shape[0]\n",
    "N = S_in.shape[1]\n",
    "\n",
    "ϕ = np.array([0.6,-0.1,0.3])\n",
    "p = len(ϕ)\n",
    "\n",
    "D = np.zeros((T-p,N))\n",
    "for t in range(p,T):\n",
    "    for i in range(N):\n",
    "        D[t-p,i] = S[t,i]-ϕ@np.flip(S[(t-p):t,i])\n",
    "        \n",
    "T = D.shape[0]\n",
    "\n",
    "A = np.array([np.ones(N),-np.ones(N)])\n",
    "b = np.array([1,-1])\n",
    "K = len(b)\n",
    "\n",
    "A_tilde = np.vstack((A,np.eye(N)))\n",
    "b_tilde = np.hstack((b,np.zeros(N)))\n",
    "\n",
    "DTD = np.transpose(D)@D\n",
    "DTDinv = la.inv(DTD)\n",
    "DT1 = np.transpose(D)@np.ones(T)\n",
    "DTDinvDT1 = DTDinv@DT1\n",
    "DT1DTDinvDT1 = DT1@DTDinvDT1\n",
    "ADTDinvAT = A_tilde@DTDinv@np.transpose(A_tilde)\n",
    "ADTDinvDT1 = A_tilde@DTDinvDT1\n",
    "Z = DT1DTDinvDT1-T\n",
    "\n",
    "def mvpo(S,τ,NIT,η):\n",
    "    \n",
    "    time_0 = time.time()\n",
    "    \n",
    "    μ_curr = np.zeros(K+N)\n",
    "    D_hist = np.zeros(NIT)\n",
    "    μ_hist = np.zeros((NIT,K+N))\n",
    "    for t in range(NIT):\n",
    "        w_star_curr = (μ_curr@ADTDinvDT1/Z)*DTDinvDT1-DTDinv@np.transpose(A_tilde)@μ_curr\n",
    "        g1_curr = (DT1DTDinvDT1*μ_curr@ADTDinvDT1/Z)*(ADTDinvDT1/Z)-(2*μ_curr@ADTDinvDT1/Z)*ADTDinvDT1+ADTDinvAT@μ_curr\n",
    "        g2_curr = (1/T)*(DT1DTDinvDT1*μ_curr@ADTDinvDT1/Z)*(DT1DTDinvDT1*ADTDinvDT1/Z)+(1/T)*μ_curr@ADTDinvDT1*ADTDinvDT1-(2/T)*(DT1DTDinvDT1*μ_curr@ADTDinvDT1/Z)*ADTDinvDT1\n",
    "        g3_curr = (2*μ_curr@ADTDinvDT1/Z)*ADTDinvDT1-2*ADTDinvAT@μ_curr\n",
    "        g4_curr = b_tilde\n",
    "        g_curr = -g1_curr+g2_curr-g3_curr+g4_curr\n",
    "        μ_next = μ_curr-η*g_curr\n",
    "        λ_next = part(μ_next[:K])\n",
    "        ν_next = ball(μ_next[K:],τ)\n",
    "        μ_next = np.hstack((λ_next,ν_next))\n",
    "        D_hist[t] = dual(μ_next)\n",
    "        μ_hist[t,:] = μ_next\n",
    "        μ_curr = μ_next\n",
    "\n",
    "    time_1 = time.time()\n",
    "    print(np.round(time_1-time_0,3),\"seconds\")\n",
    "\n",
    "    plt.plot(D_hist)\n",
    "    plt.grid()\n",
    "    plt.show()\n",
    "    \n",
    "    return w_star_curr"
   ]
  },
  {
   "cell_type": "code",
   "execution_count": 8,
   "metadata": {},
   "outputs": [
    {
     "name": "stdout",
     "output_type": "stream",
     "text": [
      "0.337 seconds\n"
     ]
    },
    {
     "data": {
      "image/png": "[encoded data removed]",
      "text/plain": [
       "<Figure size 432x288 with 1 Axes>"
      ]
     },
     "metadata": {
      "needs_background": "light"
     },
     "output_type": "display_data"
    },
    {
     "name": "stdout",
     "output_type": "stream",
     "text": [
      "0.281 seconds\n"
     ]
    },
    {
     "data": {
      "image/png": "[encoded data removed]",
      "text/plain": [
       "<Figure size 432x288 with 1 Axes>"
      ]
     },
     "metadata": {
      "needs_background": "light"
     },
     "output_type": "display_data"
    },
    {
     "name": "stdout",
     "output_type": "stream",
     "text": [
      "0.291 seconds\n"
     ]
    },
    {
     "data": {
      "image/png": "[encoded data removed]",
      "text/plain": [
       "<Figure size 432x288 with 1 Axes>"
      ]
     },
     "metadata": {
      "needs_background": "light"
     },
     "output_type": "display_data"
    },
    {
     "name": "stdout",
     "output_type": "stream",
     "text": [
      "0.29 seconds\n"
     ]
    },
    {
     "data": {
      "image/png": "[encoded data removed]",
      "text/plain": [
       "<Figure size 432x288 with 1 Axes>"
      ]
     },
     "metadata": {
      "needs_background": "light"
     },
     "output_type": "display_data"
    }
   ],
   "source": [
    "w_0 = mvpo(S_in,0,1000,1e1)\n",
    "w_I = mvpo(S_in,1,1000,1e1)\n",
    "w_V = mvpo(S_in,2,1000,1e1)\n",
    "w_X = mvpo(S_in,5,1000,1e1)"
   ]
  },
  {
   "cell_type": "code",
   "execution_count": 9,
   "metadata": {},
   "outputs": [
    {
     "data": {
      "text/plain": [
       "array([-0.05143674, -0.09248103, -0.02842574, -0.03457745,  0.00960268,\n",
       "        0.03807974, -0.05523506,  0.04602027,  0.35600853, -0.00038343,\n",
       "        0.00677487,  0.26571202,  0.07756207,  0.08700304,  0.01409301,\n",
       "        0.33117323, -0.03783995, -0.01221277,  0.09879242, -0.01822972])"
      ]
     },
     "execution_count": 9,
     "metadata": {},
     "output_type": "execute_result"
    }
   ],
   "source": [
    "w_0"
   ]
  },
  {
   "cell_type": "code",
   "execution_count": 10,
   "metadata": {},
   "outputs": [
    {
     "data": {
      "text/plain": [
       "array([-4.43016784e-02, -9.79338080e-02, -1.70290949e-02, -3.50648679e-02,\n",
       "        1.55604696e-15,  2.77771158e-02, -2.72487296e-02,  3.88057243e-02,\n",
       "        3.54159104e-01,  2.64718802e-15,  5.25077534e-03,  2.56874070e-01,\n",
       "        8.04725868e-02,  8.28580027e-02,  1.56654659e-02,  3.14729772e-01,\n",
       "       -3.50434861e-02, -2.86766733e-03,  8.28967147e-02,  5.62050406e-16])"
      ]
     },
     "execution_count": 10,
     "metadata": {},
     "output_type": "execute_result"
    }
   ],
   "source": [
    "w_I"
   ]
  },
  {
   "cell_type": "code",
   "execution_count": 11,
   "metadata": {},
   "outputs": [
    {
     "data": {
      "text/plain": [
       "array([-3.42890674e-02, -1.02114308e-01, -1.18991336e-02, -3.43631327e-02,\n",
       "        8.58688121e-16,  1.81684113e-02, -1.07621296e-03,  3.85075579e-02,\n",
       "        3.44337982e-01,  2.65412692e-15,  3.05950872e-03,  2.56573156e-01,\n",
       "        7.81300325e-02,  8.13255374e-02,  1.40480587e-02,  3.13127010e-01,\n",
       "       -3.12916019e-02, -4.82253126e-15,  6.77562023e-02,  1.47104551e-15])"
      ]
     },
     "execution_count": 11,
     "metadata": {},
     "output_type": "execute_result"
    }
   ],
   "source": [
    "w_V"
   ]
  },
  {
   "cell_type": "code",
   "execution_count": 12,
   "metadata": {},
   "outputs": [
    {
     "data": {
      "text/plain": [
       "array([-6.96306415e-03, -1.05180924e-01,  1.13797860e-15, -3.15434896e-02,\n",
       "        1.39124823e-15,  7.54434650e-04,  1.67921232e-15,  3.61488510e-02,\n",
       "        3.40774984e-01,  4.27435864e-15,  3.84909309e-04,  2.60370296e-01,\n",
       "        8.25920561e-02,  7.93484410e-02,  8.26866730e-03,  3.15391451e-01,\n",
       "       -1.97162896e-02, -5.82867088e-15,  3.93696772e-02,  5.59968738e-15])"
      ]
     },
     "execution_count": 12,
     "metadata": {},
     "output_type": "execute_result"
    }
   ],
   "source": [
    "w_X"
   ]
  },
  {
   "cell_type": "code",
   "execution_count": 13,
   "metadata": {},
   "outputs": [],
   "source": [
    "P_0 = np.zeros(np.shape(S_out)[0])\n",
    "P_I = np.zeros(np.shape(S_out)[0])\n",
    "P_V = np.zeros(np.shape(S_out)[0])\n",
    "P_X = np.zeros(np.shape(S_out)[0])\n",
    "for t in range(len(P_0)):\n",
    "    P_0[t] = w_0@S_out[t,:]\n",
    "    P_I[t] = w_I@S_out[t,:]\n",
    "    P_V[t] = w_V@S_out[t,:]\n",
    "    P_X[t] = w_X@S_out[t,:]"
   ]
  },
  {
   "cell_type": "code",
   "execution_count": 14,
   "metadata": {},
   "outputs": [],
   "source": [
    "P_0 = np.zeros(np.shape(S_in)[0])\n",
    "P_I = np.zeros(np.shape(S_in)[0])\n",
    "P_V = np.zeros(np.shape(S_in)[0])\n",
    "P_X = np.zeros(np.shape(S_in)[0])\n",
    "for t in range(len(P_0)):\n",
    "    P_0[t] = w_0@S_in[t,:]\n",
    "    P_I[t] = w_I@S_in[t,:]\n",
    "    P_V[t] = w_V@S_in[t,:]\n",
    "    P_X[t] = w_X@S_in[t,:]"
   ]
  },
  {
   "cell_type": "code",
   "execution_count": 15,
   "metadata": {},
   "outputs": [
    {
     "name": "stdout",
     "output_type": "stream",
     "text": [
      "20.709317182355313\n",
      "21.05061672984707\n",
      "21.518341973084734\n",
      "22.205102516327585\n"
     ]
    }
   ],
   "source": [
    "print(np.mean(P_0))\n",
    "print(np.mean(P_I))\n",
    "print(np.mean(P_V))\n",
    "print(np.mean(P_X))"
   ]
  },
  {
   "cell_type": "code",
   "execution_count": 16,
   "metadata": {},
   "outputs": [],
   "source": [
    "def cross(P,μ):\n",
    "    T = len(P)\n",
    "    χ = 0\n",
    "    for t in range(T-1):\n",
    "        if (P[t]-μ)*(P[t+1]-μ) < 0:\n",
    "            χ += 1\n",
    "    return χ"
   ]
  },
  {
   "cell_type": "code",
   "execution_count": 17,
   "metadata": {},
   "outputs": [
    {
     "data": {
      "text/plain": [
       "8"
      ]
     },
     "execution_count": 17,
     "metadata": {},
     "output_type": "execute_result"
    }
   ],
   "source": [
    "cross(P_0,np.mean(P_0))"
   ]
  },
  {
   "cell_type": "code",
   "execution_count": 18,
   "metadata": {},
   "outputs": [
    {
     "data": {
      "text/plain": [
       "22"
      ]
     },
     "execution_count": 18,
     "metadata": {},
     "output_type": "execute_result"
    }
   ],
   "source": [
    "cross(P_I,np.mean(P_I))"
   ]
  },
  {
   "cell_type": "code",
   "execution_count": 19,
   "metadata": {},
   "outputs": [
    {
     "data": {
      "text/plain": [
       "26"
      ]
     },
     "execution_count": 19,
     "metadata": {},
     "output_type": "execute_result"
    }
   ],
   "source": [
    "cross(P_V,np.mean(P_V))"
   ]
  },
  {
   "cell_type": "code",
   "execution_count": 20,
   "metadata": {},
   "outputs": [
    {
     "data": {
      "text/plain": [
       "22"
      ]
     },
     "execution_count": 20,
     "metadata": {},
     "output_type": "execute_result"
    }
   ],
   "source": [
    "cross(P_X,np.mean(P_X))"
   ]
  }
 ],
 "metadata": {
  "kernelspec": {
   "display_name": "Python 3",
   "language": "python",
   "name": "python3"
  },
  "language_info": {
   "codemirror_mode": {
    "name": "ipython",
    "version": 3
   },
   "file_extension": ".py",
   "mimetype": "text/x-python",
   "name": "python",
   "nbconvert_exporter": "python",
   "pygments_lexer": "ipython3",
   "version": "3.8.5"
  }
 },
 "nbformat": 4,
 "nbformat_minor": 4
}
