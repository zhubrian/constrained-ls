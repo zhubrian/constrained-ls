{
 "cells": [
  {
   "cell_type": "markdown",
   "metadata": {},
   "source": [
    "# Import libraries"
   ]
  },
  {
   "cell_type": "code",
   "execution_count": 1,
   "metadata": {},
   "outputs": [],
   "source": [
    "import matplotlib.pyplot as plt\n",
    "import numpy as np\n",
    "import pandas as pd\n",
    "import scipy.linalg as la\n",
    "import scipy.optimize as opt\n",
    "import scipy.stats as st\n",
    "import time"
   ]
  },
  {
   "cell_type": "markdown",
   "metadata": {},
   "source": [
    "# Auxiliary functions"
   ]
  },
  {
   "cell_type": "code",
   "execution_count": 2,
   "metadata": {},
   "outputs": [],
   "source": [
    "def loss(X,y,β,τ):\n",
    "    return 0.5*la.norm(y-X@β)**2+τ*la.norm(β,ord=1)"
   ]
  },
  {
   "cell_type": "code",
   "execution_count": 3,
   "metadata": {},
   "outputs": [],
   "source": [
    "def dual(X,y,A,b,λ,ν):\n",
    "    Q = la.inv(np.transpose(X)@X)\n",
    "    r = np.transpose(X)@y-np.transpose(A)@λ-ν\n",
    "    return 0.5*r@Q@r+b@λ-0.5*y@y"
   ]
  },
  {
   "cell_type": "code",
   "execution_count": 4,
   "metadata": {},
   "outputs": [],
   "source": [
    "def ball(β,τ):\n",
    "    m = len(β)\n",
    "    Bβ = np.zeros(m)\n",
    "    for i in range(m):\n",
    "        Bβ[i] = np.sign(β[i])*(τ-np.max(np.array([τ-np.abs(β[i]),0])))\n",
    "    return Bβ "
   ]
  },
  {
   "cell_type": "code",
   "execution_count": 5,
   "metadata": {},
   "outputs": [],
   "source": [
    "def soft(β,τ):\n",
    "    m = len(β)\n",
    "    Sβ = np.zeros(m)\n",
    "    for i in range(m):\n",
    "        Sβ[i] = np.sign(β[i])*np.max(np.array([np.abs(β[i])-τ,0]))\n",
    "    return Sβ"
   ]
  },
  {
   "cell_type": "code",
   "execution_count": 6,
   "metadata": {},
   "outputs": [],
   "source": [
    "def part(β):\n",
    "    m = len(β)\n",
    "    Pβ = np.zeros(m)\n",
    "    for i in range(m):\n",
    "        Pβ[i] = np.max(np.array([β[i],0]))\n",
    "    return Pβ"
   ]
  },
  {
   "cell_type": "code",
   "execution_count": 7,
   "metadata": {},
   "outputs": [],
   "source": [
    "def proj(z,A,b,T,η):\n",
    "    if np.all(A@z<=b):\n",
    "        return z\n",
    "    else:\n",
    "        k = len(b)\n",
    "        λ_curr = np.zeros(k)\n",
    "        D_hist = np.zeros(T)\n",
    "        λ_hist = np.zeros((T,k))\n",
    "        for t in range(T):\n",
    "            g_curr = A@np.transpose(A)@λ_curr-(A@z-b)\n",
    "            λ_next = part(λ_curr-η*g_curr)\n",
    "            D_hist[t] = 0.5*la.norm(np.transpose(A)@λ_next)**2-(A@z-b)@λ_next\n",
    "            λ_hist[t,:] = λ_next\n",
    "            λ_curr = λ_next\n",
    "        # plt.plot(D_hist)\n",
    "        # plt.grid()\n",
    "        # plt.show()\n",
    "        return z-np.transpose(A)@λ_hist[-1]"
   ]
  },
  {
   "cell_type": "markdown",
   "metadata": {},
   "source": [
    "# Toy Example"
   ]
  },
  {
   "cell_type": "code",
   "execution_count": 8,
   "metadata": {},
   "outputs": [],
   "source": [
    "np.random.seed(432)\n",
    "\n",
    "n = 200\n",
    "m = 2\n",
    "β = np.array([0.5,-0.2])\n",
    "σ = 0.5\n",
    "X = np.random.normal(size=(n,m))\n",
    "y = X@β+np.random.normal(scale=σ,size=n)\n",
    "τ = 10\n",
    "\n",
    "A = np.array([[-1,0],\n",
    "              [0,-1],\n",
    "              [1,1]])\n",
    "b = np.array([0,0,1])\n",
    "\n",
    "k = len(b)"
   ]
  },
  {
   "cell_type": "code",
   "execution_count": 9,
   "metadata": {},
   "outputs": [
    {
     "name": "stdout",
     "output_type": "stream",
     "text": [
      "0.06 seconds\n"
     ]
    },
    {
     "data": {
      "image/png": "[encoded data removed]",
      "text/plain": [
       "<Figure size 360x288 with 1 Axes>"
      ]
     },
     "metadata": {
      "needs_background": "light"
     },
     "output_type": "display_data"
    }
   ],
   "source": [
    "# Dual Projected Gradient Descent\n",
    "\n",
    "time_0 = time.time()\n",
    "\n",
    "A_tilde = np.vstack((A,np.eye(m)))\n",
    "b_tilde = np.hstack((b,np.zeros(m)))\n",
    "\n",
    "Q = A_tilde@la.pinv(np.transpose(X)@X)@np.transpose(A_tilde)\n",
    "r = A_tilde@la.pinv(np.transpose(X)@X)@np.transpose(X)@y\n",
    "\n",
    "T = 500\n",
    "η = 5\n",
    "\n",
    "λ_curr = np.zeros(k)\n",
    "ν_curr = np.zeros(m)\n",
    "D_hist = np.zeros(T)\n",
    "λ_hist = np.zeros((T,k))\n",
    "ν_hist = np.zeros((T,m))\n",
    "for t in range(T):\n",
    "    λν_curr = np.hstack((λ_curr,ν_curr))\n",
    "    g_curr = Q@λν_curr-r+b_tilde\n",
    "    λν_next = λν_curr-η*g_curr\n",
    "    λ_next = part(λν_next[:k])\n",
    "    ν_next = ball(λν_next[k:],τ)\n",
    "    D_hist[t] = dual(X,y,A,b,λ_next,ν_next)\n",
    "    λ_hist[t,:] = λ_next\n",
    "    ν_hist[t,:] = ν_next\n",
    "    λ_curr = λ_next\n",
    "    ν_curr = ν_next\n",
    "    \n",
    "β_dual = la.pinv(np.transpose(X)@X)@(np.transpose(X)@y-np.transpose(A)@λ_curr-ν_curr)\n",
    "\n",
    "time_1 = time.time()    \n",
    "print(np.round(time_1-time_0,3),\"seconds\")\n",
    "    \n",
    "plt.figure(figsize=(5,4))\n",
    "plt.title(\"Dual Method: \"+str(np.round(time_1-time_0,3))+\" seconds\")\n",
    "plt.xlabel(\"Iteration\")\n",
    "plt.ylabel(\"Objective\")\n",
    "plt.plot(D_hist)\n",
    "plt.grid()\n",
    "plt.savefig(r\"C:\\Users\\zhubr\\OneDrive\\Desktop\\STAT 432\\stat432-project\\dualm.png\")\n",
    "plt.show()"
   ]
  },
  {
   "cell_type": "code",
   "execution_count": 10,
   "metadata": {},
   "outputs": [],
   "source": [
    "β_dual_hist = np.zeros((T,m))\n",
    "for t in range(T):\n",
    "    β_dual_hist[t] = la.pinv(np.transpose(X)@X)@(np.transpose(X)@y-np.transpose(A)@λ_hist[t]-ν_hist[t])"
   ]
  },
  {
   "cell_type": "code",
   "execution_count": 11,
   "metadata": {},
   "outputs": [
    {
     "name": "stdout",
     "output_type": "stream",
     "text": [
      "3.719 seconds\n"
     ]
    },
    {
     "data": {
      "image/png": "[encoded data removed]",
      "text/plain": [
       "<Figure size 360x288 with 1 Axes>"
      ]
     },
     "metadata": {
      "needs_background": "light"
     },
     "output_type": "display_data"
    }
   ],
   "source": [
    "# Alternating Direction Method of Multipliers 1\n",
    "\n",
    "time_0 = time.time()\n",
    "\n",
    "T_outer = 200\n",
    "T_inner = 200\n",
    "\n",
    "η_1 = 1e-3\n",
    "η_2 = 1e-1\n",
    "α = 20\n",
    "\n",
    "β_curr = np.zeros(m)\n",
    "γ_curr = np.zeros(m)\n",
    "u_curr = np.zeros(m)\n",
    "L_hist = np.zeros(T_outer)\n",
    "β_hist = np.zeros((T_outer,m))\n",
    "γ_hist = np.zeros((T_outer,m))\n",
    "u_hist = np.zeros((T_outer,m))\n",
    "\n",
    "for t in range(T_outer):\n",
    "    β_in_curr = β_curr\n",
    "    L_in_hist = np.zeros(T_inner)\n",
    "    β_in_hist = np.zeros((T_inner,m))\n",
    "    for s in range(T_inner):\n",
    "        g_in_curr = np.transpose(X)@(X@β_in_curr-y)+α*(β_in_curr-γ_curr+u_curr)\n",
    "        β_in_next = soft(β_in_curr-η_1*g_in_curr,τ*η_1)\n",
    "        L_in_hist[s] = 0.5*la.norm(X@β_in_next-y)**2+0.5*α*la.norm(β_in_curr-γ_curr+u_curr)**2\n",
    "        β_in_hist[s,:] = β_in_next\n",
    "        β_in_curr = β_in_next\n",
    "    # plt.plot(L_in_hist)\n",
    "    # plt.grid()\n",
    "    # plt.show()\n",
    "    β_next = β_in_curr\n",
    "    γ_next = proj(β_next+u_curr,A,b,T_inner,η_2)\n",
    "    u_next = u_curr+β_next-γ_next\n",
    "    L_hist[t] = -loss(X,y,β_next,τ)\n",
    "    β_hist[t,:] = β_next\n",
    "    γ_hist[t,:] = γ_next\n",
    "    u_hist[t,:] = u_next\n",
    "    β_curr = β_next\n",
    "    γ_curr = γ_next\n",
    "    u_curr = u_next\n",
    "    \n",
    "time_1 = time.time()\n",
    "print(np.round(time_1-time_0,3),\"seconds\")\n",
    "    \n",
    "plt.figure(figsize=(5,4))\n",
    "plt.title(\"ADMM Method I: \"+str(np.round(time_1-time_0,3))+\" seconds\")\n",
    "plt.xlabel(\"Iteration\")\n",
    "plt.ylabel(\"Objective\")\n",
    "plt.yticks(np.array([-29,-30,-31,-32]))\n",
    "plt.plot(L_hist)\n",
    "plt.grid()\n",
    "plt.savefig(r\"C:\\Users\\zhubr\\OneDrive\\Desktop\\STAT 432\\stat432-project\\admm1.png\")\n",
    "plt.show()"
   ]
  },
  {
   "cell_type": "code",
   "execution_count": 12,
   "metadata": {},
   "outputs": [],
   "source": [
    "β_hist_1 = β_hist"
   ]
  },
  {
   "cell_type": "code",
   "execution_count": 13,
   "metadata": {},
   "outputs": [
    {
     "name": "stdout",
     "output_type": "stream",
     "text": [
      "2.451 seconds\n"
     ]
    },
    {
     "data": {
      "image/png": "[encoded data removed]",
      "text/plain": [
       "<Figure size 360x288 with 1 Axes>"
      ]
     },
     "metadata": {
      "needs_background": "light"
     },
     "output_type": "display_data"
    }
   ],
   "source": [
    "# Alternating Direction Method of Multipliers 2\n",
    "\n",
    "time_0 = time.time()\n",
    "\n",
    "T_outer = 200\n",
    "T_inner = 200\n",
    "\n",
    "η = 1e-3\n",
    "α = 20\n",
    "\n",
    "β_curr = np.zeros(m)\n",
    "ζ_curr = np.zeros(k)\n",
    "u_curr = np.zeros(k)\n",
    "L_hist = np.zeros(T_outer)\n",
    "β_hist = np.zeros((T_outer,m))\n",
    "ζ_hist = np.zeros((T_outer,k))\n",
    "u_hist = np.zeros((T_outer,k))\n",
    "\n",
    "for t in range(T_outer):\n",
    "    β_in_curr = β_curr\n",
    "    L_in_hist = np.zeros(T_inner)\n",
    "    β_in_hist = np.zeros((T_inner,m))\n",
    "    for s in range(T_inner):\n",
    "        g_in_curr = np.transpose(X)@(X@β_in_curr-y)+α*np.transpose(A)@(A@β_in_curr+ζ_curr-b+u_curr)\n",
    "        β_in_next = soft(β_in_curr-η*g_in_curr,τ*η)\n",
    "        L_in_hist[s] = 0.5*la.norm(X@β_in_next-y)**2+0.5*α*la.norm(A@β_in_next+ζ_curr-b+u_curr)**2\n",
    "        β_in_hist[s,:] = β_in_next\n",
    "        β_in_curr = β_in_next\n",
    "    # plt.plot(L_in_hist)\n",
    "    # plt.grid()\n",
    "    # plt.show()\n",
    "    β_next = β_in_curr\n",
    "    ζ_next = part(-(A@β_next-b+u_curr))\n",
    "    u_next = u_curr+A@β_next+ζ_next-b\n",
    "    L_hist[t] = -loss(X,y,β_next,τ)\n",
    "    β_hist[t,:] = β_next\n",
    "    ζ_hist[t,:] = ζ_next\n",
    "    u_hist[t,:] = u_next\n",
    "    β_curr = β_next\n",
    "    ζ_curr = ζ_next\n",
    "    u_curr = u_next\n",
    "    \n",
    "time_1 = time.time()\n",
    "print(np.round(time_1-time_0,3),\"seconds\")\n",
    "    \n",
    "plt.figure(figsize=(5,4))\n",
    "plt.title(\"ADMM Method II: \"+str(np.round(time_1-time_0,3))+\" seconds\")\n",
    "plt.xlabel(\"Iteration\")\n",
    "plt.ylabel(\"Objective\")\n",
    "plt.yticks(np.array([-29,-30,-31,-32]))\n",
    "plt.plot(L_hist)\n",
    "plt.grid()\n",
    "plt.savefig(r\"C:\\Users\\zhubr\\OneDrive\\Desktop\\STAT 432\\stat432-project\\admm2.png\")\n",
    "plt.show()"
   ]
  },
  {
   "cell_type": "code",
   "execution_count": 14,
   "metadata": {},
   "outputs": [],
   "source": [
    "β_hist_2 = β_hist"
   ]
  },
  {
   "cell_type": "code",
   "execution_count": 15,
   "metadata": {},
   "outputs": [
    {
     "data": {
      "image/png": "[encoded data removed]",
      "text/plain": [
       "<Figure size 432x288 with 1 Axes>"
      ]
     },
     "metadata": {
      "needs_background": "light"
     },
     "output_type": "display_data"
    }
   ],
   "source": [
    "plt.title(\"Iterate Paths\")\n",
    "plt.xlabel(\"β_1\")\n",
    "plt.ylabel(\"β_2\")\n",
    "plt.yticks(np.array([0,-0.1,-0.2]))\n",
    "# plt.plot(β[0],β[1],marker='o',color='k')\n",
    "plt.plot(β_dual_hist[:,0],β_dual_hist[:,1],color='C0',label='DUAL')\n",
    "plt.plot(β_dual_hist[-1,0],β_dual_hist[-1,1],marker='o',color='C9')\n",
    "plt.plot(β_hist_1[:,0],β_hist_1[:,1],color='C1',label='ADMM I')\n",
    "plt.plot(β_hist_1[-1,0],β_hist_1[-1,1],marker='o',color='C1')\n",
    "plt.plot(β_hist_2[:,0],β_hist_2[:,1],color='C2',label='ADMM II')\n",
    "plt.plot(β_hist_2[-1,0],β_hist_2[-1,1],marker='o',color='C2')\n",
    "plt.legend()\n",
    "plt.grid()\n",
    "plt.savefig(r\"C:\\Users\\zhubr\\OneDrive\\Desktop\\STAT 432\\stat432-project\\paths.png\")\n",
    "plt.show()"
   ]
  },
  {
   "cell_type": "markdown",
   "metadata": {},
   "source": [
    "# Application: Portfolio Optimization"
   ]
  },
  {
   "cell_type": "code",
   "execution_count": 16,
   "metadata": {},
   "outputs": [],
   "source": [
    "data_str = \"oilgas-10y\"\n",
    "S_df = pd.read_csv(\"C:\\\\Users\\\\zhubr\\\\OneDrive\\\\Desktop\\\\STAT 432\\\\data-\"+data_str+\".csv\")\n",
    "\n",
    "S_df = S_df.drop(columns=['Date'])\n",
    "S_df = S_df.iloc[::-1].astype('float')\n",
    "S_df.head()\n",
    "S = S_df.to_numpy()"
   ]
  },
  {
   "cell_type": "code",
   "execution_count": 17,
   "metadata": {},
   "outputs": [],
   "source": [
    "S_in = S[1800:2200,:]\n",
    "S_out = S[2200:2300,:]\n",
    "\n",
    "def mvpo(S,τ,T,η):\n",
    "    \n",
    "    R = np.zeros((np.shape(S)[0]-1,np.shape(S)[1]))\n",
    "    for t in range(np.shape(R)[0]):\n",
    "        for i in range(np.shape(R)[1]):\n",
    "            R[t,i] = 100*(S[t+1,i]/S[t,i]-1)\n",
    "            \n",
    "    μ = np.mean(R,axis=0)\n",
    "    Σ = np.cov(np.transpose(R))\n",
    "    Σ_inv = la.inv(Σ)\n",
    "    Σ_sqrt = la.sqrtm(Σ)\n",
    "    Σ_inv_sqrt = la.sqrtm(Σ_inv)\n",
    "    \n",
    "    n = Σ.shape[0]\n",
    "    m = Σ.shape[1]\n",
    "    w = np.ones(m)/m\n",
    "    X = Σ_sqrt\n",
    "    y = Σ_inv_sqrt@μ\n",
    "\n",
    "    A = np.array([np.ones(m),-np.ones(m)])\n",
    "    b = np.array([1,-1])\n",
    "    k = len(b)\n",
    "\n",
    "    time_0 = time.time()\n",
    "\n",
    "    A_tilde = np.vstack((A,np.eye(m)))\n",
    "    b_tilde = np.hstack((b,np.zeros(m)))\n",
    "\n",
    "    Q = A_tilde@la.inv(np.transpose(X)@X)@np.transpose(A_tilde)\n",
    "    r = A_tilde@la.inv(np.transpose(X)@X)@np.transpose(X)@y\n",
    "\n",
    "    λ_curr = np.zeros(k)\n",
    "    ν_curr = np.zeros(m)\n",
    "    D_hist = np.zeros(T)\n",
    "    λ_hist = np.zeros((T,k))\n",
    "    ν_hist = np.zeros((T,m))\n",
    "    for t in range(T):\n",
    "        λν_curr = np.hstack((λ_curr,ν_curr))\n",
    "        g_curr = Q@λν_curr-r+b_tilde\n",
    "        λν_next = λν_curr-η*g_curr\n",
    "        λ_next = part(λν_next[:k])\n",
    "        ν_next = ball(λν_next[k:],τ)\n",
    "        D_hist[t] = dual(X,y,A,b,λ_next,ν_next)\n",
    "        λ_hist[t,:] = λ_next\n",
    "        ν_hist[t,:] = ν_next\n",
    "        λ_curr = λ_next\n",
    "        ν_curr = ν_next\n",
    "\n",
    "    β_dual = la.inv(np.transpose(X)@X)@(np.transpose(X)@y-np.transpose(A)@λ_curr-ν_curr)\n",
    "\n",
    "    time_1 = time.time()\n",
    "    print(np.round(time_1-time_0,3),\"seconds\")\n",
    "\n",
    "    plt.plot(D_hist)\n",
    "    plt.grid()\n",
    "    plt.show()\n",
    "    \n",
    "    return β_dual"
   ]
  },
  {
   "cell_type": "code",
   "execution_count": 18,
   "metadata": {},
   "outputs": [
    {
     "name": "stdout",
     "output_type": "stream",
     "text": [
      "0.297 seconds\n"
     ]
    },
    {
     "data": {
      "image/png": "[encoded data removed]",
      "text/plain": [
       "<Figure size 432x288 with 1 Axes>"
      ]
     },
     "metadata": {
      "needs_background": "light"
     },
     "output_type": "display_data"
    },
    {
     "name": "stdout",
     "output_type": "stream",
     "text": [
      "0.491 seconds\n"
     ]
    },
    {
     "data": {
      "image/png": "[encoded data removed]",
      "text/plain": [
       "<Figure size 432x288 with 1 Axes>"
      ]
     },
     "metadata": {
      "needs_background": "light"
     },
     "output_type": "display_data"
    },
    {
     "name": "stdout",
     "output_type": "stream",
     "text": [
      "0.485 seconds\n"
     ]
    },
    {
     "data": {
      "image/png": "[encoded data removed]",
      "text/plain": [
       "<Figure size 432x288 with 1 Axes>"
      ]
     },
     "metadata": {
      "needs_background": "light"
     },
     "output_type": "display_data"
    },
    {
     "name": "stdout",
     "output_type": "stream",
     "text": [
      "0.494 seconds\n"
     ]
    },
    {
     "data": {
      "image/png": "[encoded data removed]",
      "text/plain": [
       "<Figure size 432x288 with 1 Axes>"
      ]
     },
     "metadata": {
      "needs_background": "light"
     },
     "output_type": "display_data"
    }
   ],
   "source": [
    "w_0 = mvpo(S_in,0,1000,1e-1)\n",
    "w_I = mvpo(S_in,0.1,2000,2e-1)\n",
    "w_V = mvpo(S_in,0.2,2000,2e-1)\n",
    "w_X = mvpo(S_in,0.5,2000,2e-1)"
   ]
  },
  {
   "cell_type": "code",
   "execution_count": 19,
   "metadata": {},
   "outputs": [],
   "source": [
    "P_0 = np.zeros(np.shape(S_out)[0])\n",
    "P_I = np.zeros(np.shape(S_out)[0])\n",
    "P_V = np.zeros(np.shape(S_out)[0])\n",
    "P_X = np.zeros(np.shape(S_out)[0])\n",
    "for t in range(len(P_0)):\n",
    "    P_0[t] = w_0@S_out[t,:]\n",
    "    P_I[t] = w_I@S_out[t,:]\n",
    "    P_V[t] = w_V@S_out[t,:]\n",
    "    P_X[t] = w_X@S_out[t,:]"
   ]
  },
  {
   "cell_type": "code",
   "execution_count": 20,
   "metadata": {},
   "outputs": [
    {
     "data": {
      "image/png": "[encoded data removed]",
      "text/plain": [
       "<Figure size 432x288 with 1 Axes>"
      ]
     },
     "metadata": {
      "needs_background": "light"
     },
     "output_type": "display_data"
    }
   ],
   "source": [
    "plt.plot(P_0)\n",
    "plt.plot(P_I)\n",
    "plt.plot(P_V)\n",
    "plt.plot(P_X)\n",
    "plt.grid()\n",
    "plt.show()"
   ]
  },
  {
   "cell_type": "code",
   "execution_count": 21,
   "metadata": {},
   "outputs": [
    {
     "data": {
      "text/plain": [
       "array([-0.01057917,  0.13786234,  0.05240739,  0.02874558,  0.13143258,\n",
       "       -0.03973589, -0.24010718,  0.1233319 ,  0.03703367,  0.35531833,\n",
       "        0.36567046, -0.03111252, -0.18089783,  0.16731828,  0.04685479,\n",
       "        0.08558459, -0.11218328,  0.10304567, -0.04515014,  0.02516043])"
      ]
     },
     "execution_count": 21,
     "metadata": {},
     "output_type": "execute_result"
    }
   ],
   "source": [
    "w_0"
   ]
  },
  {
   "cell_type": "code",
   "execution_count": 22,
   "metadata": {},
   "outputs": [
    {
     "data": {
      "text/plain": [
       "array([-4.59138935e-16,  5.98110543e-02, -6.48187674e-17,  1.07411542e-02,\n",
       "        1.11073710e-01, -4.91930454e-03, -9.73125933e-02,  1.13169235e-01,\n",
       "        2.31986567e-16,  3.46078158e-01,  3.90253589e-01,  3.23041707e-16,\n",
       "       -1.65041079e-01,  1.46525650e-01,  7.97711061e-17,  4.69667303e-02,\n",
       "       -7.87596678e-02,  1.06982046e-01, -6.57048427e-18,  1.44313173e-02])"
      ]
     },
     "execution_count": 22,
     "metadata": {},
     "output_type": "execute_result"
    }
   ],
   "source": [
    "w_I"
   ]
  },
  {
   "cell_type": "code",
   "execution_count": 23,
   "metadata": {},
   "outputs": [
    {
     "data": {
      "text/plain": [
       "array([-3.94365849e-16, -3.03569781e-16,  2.23171273e-17, -3.00828886e-16,\n",
       "        5.77587001e-02, -4.25570736e-17, -8.15194805e-18,  1.01849204e-01,\n",
       "        2.39641447e-16,  3.60739341e-01,  4.01639931e-01,  3.00211835e-16,\n",
       "       -1.51400302e-01,  1.31608017e-01, -7.56545952e-17,  4.91440954e-03,\n",
       "       -3.67042529e-02,  1.24518191e-01,  2.41071168e-17,  5.07676092e-03])"
      ]
     },
     "execution_count": 23,
     "metadata": {},
     "output_type": "execute_result"
    }
   ],
   "source": [
    "w_V"
   ]
  },
  {
   "cell_type": "code",
   "execution_count": 24,
   "metadata": {},
   "outputs": [
    {
     "data": {
      "text/plain": [
       "array([ 3.21052710e-15,  2.70616738e-15,  1.44837182e-15,  4.35477604e-16,\n",
       "        2.78891290e-02,  5.17678104e-15,  1.60663604e-15,  5.87967351e-02,\n",
       "        2.09057683e-15,  3.76671421e-01,  3.80308893e-01, -7.40027936e-16,\n",
       "       -9.46816435e-02,  1.05235808e-01,  6.55956319e-15,  1.68106827e-15,\n",
       "        4.91902318e-15,  1.45779658e-01,  5.58518092e-15,  1.97524551e-15])"
      ]
     },
     "execution_count": 24,
     "metadata": {},
     "output_type": "execute_result"
    }
   ],
   "source": [
    "w_X"
   ]
  },
  {
   "cell_type": "code",
   "execution_count": 25,
   "metadata": {
    "scrolled": true
   },
   "outputs": [
    {
     "data": {
      "text/plain": [
       "1.0894982169372711"
      ]
     },
     "execution_count": 25,
     "metadata": {},
     "output_type": "execute_result"
    }
   ],
   "source": [
    "P_0[-1]/P_0[0]"
   ]
  },
  {
   "cell_type": "code",
   "execution_count": 26,
   "metadata": {},
   "outputs": [
    {
     "data": {
      "text/plain": [
       "1.09143244850706"
      ]
     },
     "execution_count": 26,
     "metadata": {},
     "output_type": "execute_result"
    }
   ],
   "source": [
    "P_I[-1]/P_I[0]"
   ]
  },
  {
   "cell_type": "code",
   "execution_count": 27,
   "metadata": {},
   "outputs": [
    {
     "data": {
      "text/plain": [
       "1.099430958547247"
      ]
     },
     "execution_count": 27,
     "metadata": {},
     "output_type": "execute_result"
    }
   ],
   "source": [
    "P_V[-1]/P_V[0]"
   ]
  },
  {
   "cell_type": "code",
   "execution_count": 28,
   "metadata": {},
   "outputs": [
    {
     "data": {
      "text/plain": [
       "1.1060144087997328"
      ]
     },
     "execution_count": 28,
     "metadata": {},
     "output_type": "execute_result"
    }
   ],
   "source": [
    "P_X[-1]/P_X[0]"
   ]
  }
 ],
 "metadata": {
  "kernelspec": {
   "display_name": "Python 3",
   "language": "python",
   "name": "python3"
  },
  "language_info": {
   "codemirror_mode": {
    "name": "ipython",
    "version": 3
   },
   "file_extension": ".py",
   "mimetype": "text/x-python",
   "name": "python",
   "nbconvert_exporter": "python",
   "pygments_lexer": "ipython3",
   "version": "3.8.5"
  }
 },
 "nbformat": 4,
 "nbformat_minor": 4
}
